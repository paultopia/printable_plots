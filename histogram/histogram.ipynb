{
 "cells": [
  {
   "cell_type": "code",
   "execution_count": 1,
   "metadata": {
    "collapsed": false
   },
   "outputs": [],
   "source": [
    "import warnings\n",
    "warnings.simplefilter(action='ignore', category=FutureWarning)\n",
    "import pandas as pd\n",
    "import matplotlib\n",
    "import matplotlib.pyplot as plt\n",
    "import numpy as np\n",
    "import textwrap\n",
    "%matplotlib inline"
   ]
  },
  {
   "cell_type": "code",
   "execution_count": 2,
   "metadata": {
    "collapsed": true
   },
   "outputs": [],
   "source": [
    "df = pd.read_csv(\"../rol-scores.csv\")"
   ]
  },
  {
   "cell_type": "code",
   "execution_count": 24,
   "metadata": {
    "collapsed": true
   },
   "outputs": [],
   "source": [
    "def histogram(variable, \n",
    "              bins=\"auto\",\n",
    "              density = False,\n",
    "              title=\"\", \n",
    "              numticks=5, \n",
    "              labelsize=15, \n",
    "              size=(10, 10)):\n",
    "    var = np.sort(np.array(variable))\n",
    "    \n",
    "    fig = plt.figure(figsize=size)\n",
    "    ax = fig.add_subplot(1, 1, 1)\n",
    "    \n",
    "    ax.set_title(title + '\\n',\n",
    "                 fontsize=labelsize * 1.25,\n",
    "                 fontname='Lato')\n",
    "    \n",
    "    ax.locator_params(nbins=numticks)\n",
    "    ax.tick_params(axis=u'both', \n",
    "                   which=u'both', \n",
    "                   length=0, \n",
    "                   labelsize = labelsize, \n",
    "                   pad=labelsize * 0.66,\n",
    "                   labelcolor = (0.25, 0.25, 0.25))\n",
    "    \n",
    "    ax.spines['top'].set_visible(False)\n",
    "    ax.spines['right'].set_visible(False)\n",
    "    ax.spines['left'].set_color((0.1, 0.1, 0.1, 0.2))\n",
    "    ax.spines['bottom'].set_color((0.1, 0.1, 0.1, 0.2))\n",
    "    \n",
    "    ax.hist(var, bins=bins, density=density)\n",
    "    bars = [x for x in ax.get_children() if type(x) is matplotlib.patches.Rectangle]\n",
    "    for idx, bar in enumerate(bars):\n",
    "        if idx % 2 == 0:\n",
    "            bar.set_color((0.1, 0.1, 0.1, 0.3))\n",
    "        else:\n",
    "            bar.set_color((0.4, 0.4, 0.4, 0.3))\n",
    "    bars[-1].set_color(\"white\")\n",
    "    return fig"
   ]
  },
  {
   "cell_type": "code",
   "execution_count": 25,
   "metadata": {
    "collapsed": false
   },
   "outputs": [
    {
     "data": {
      "image/png": "[encoded data removed]",
      "text/plain": [
       "<matplotlib.figure.Figure at 0x1133c7710>"
      ]
     },
     "metadata": {},
     "output_type": "display_data"
    }
   ],
   "source": [
    "foo = histogram(df[\"RoLScore\"], title=\"Histogram of Rule of Law Scores\")"
   ]
  },
  {
   "cell_type": "code",
   "execution_count": null,
   "metadata": {
    "collapsed": true
   },
   "outputs": [],
   "source": []
  }
 ],
 "metadata": {
  "kernelspec": {
   "display_name": "printable_plots",
   "language": "python",
   "name": "printable_plots"
  },
  "language_info": {
   "codemirror_mode": {
    "name": "ipython",
    "version": 3
   },
   "file_extension": ".py",
   "mimetype": "text/x-python",
   "name": "python",
   "nbconvert_exporter": "python",
   "pygments_lexer": "ipython3",
   "version": "3.6.1"
  }
 },
 "nbformat": 4,
 "nbformat_minor": 0
}
