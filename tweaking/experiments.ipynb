{
 "cells": [
  {
   "cell_type": "code",
   "execution_count": 1,
   "metadata": {},
   "outputs": [],
   "source": [
    "# some basic setup\n",
    "import warnings\n",
    "warnings.simplefilter(action='ignore', category=FutureWarning)\n",
    "import pandas as pd\n",
    "import matplotlib\n",
    "import matplotlib.pyplot as plt\n",
    "import numpy as np\n",
    "from scipy.stats import gaussian_kde\n",
    "import statsmodels.api as sm\n",
    "import textwrap\n",
    "from statsmodels.stats.outliers_influence import summary_table\n",
    "from datetime import datetime\n",
    "%matplotlib inline\n",
    "\n",
    "roldf = df = pd.read_csv(\"rol-scores.csv\")\n",
    "tsdf = pd.read_csv(\"unemployment.csv\").iloc[:, : 3]\n",
    "tsdf[\"Year\"] = tsdf[\"Year\"].apply(lambda x: datetime.strptime(x, '%Y %b').date())"
   ]
  },
  {
   "cell_type": "code",
   "execution_count": 2,
   "metadata": {},
   "outputs": [
    {
     "data": {
      "text/html": [
       "<div>\n",
       "<style scoped>\n",
       "    .dataframe tbody tr th:only-of-type {\n",
       "        vertical-align: middle;\n",
       "    }\n",
       "\n",
       "    .dataframe tbody tr th {\n",
       "        vertical-align: top;\n",
       "    }\n",
       "\n",
       "    .dataframe thead th {\n",
       "        text-align: right;\n",
       "    }\n",
       "</style>\n",
       "<table border=\"1\" class=\"dataframe\">\n",
       "  <thead>\n",
       "    <tr style=\"text-align: right;\">\n",
       "      <th></th>\n",
       "      <th>State</th>\n",
       "      <th>Pop. In Millions for 2012</th>\n",
       "      <th>RoLScore</th>\n",
       "      <th>elec_pros</th>\n",
       "      <th>pol_plur</th>\n",
       "      <th>free_expr</th>\n",
       "      <th>assoc_org</th>\n",
       "      <th>per_auto</th>\n",
       "      <th>2012GDP</th>\n",
       "      <th>hprop</th>\n",
       "      <th>hfisc</th>\n",
       "      <th>hbiz</th>\n",
       "      <th>hlab</th>\n",
       "      <th>htra</th>\n",
       "      <th>hinv</th>\n",
       "    </tr>\n",
       "  </thead>\n",
       "  <tbody>\n",
       "    <tr>\n",
       "      <th>0</th>\n",
       "      <td>Albania</td>\n",
       "      <td>3.2</td>\n",
       "      <td>42.60</td>\n",
       "      <td>8</td>\n",
       "      <td>10</td>\n",
       "      <td>13</td>\n",
       "      <td>8</td>\n",
       "      <td>9</td>\n",
       "      <td>1.264810e+10</td>\n",
       "      <td>30</td>\n",
       "      <td>92.6</td>\n",
       "      <td>81.0</td>\n",
       "      <td>49.0</td>\n",
       "      <td>79.8</td>\n",
       "      <td>65</td>\n",
       "    </tr>\n",
       "    <tr>\n",
       "      <th>1</th>\n",
       "      <td>Argentina</td>\n",
       "      <td>41.1</td>\n",
       "      <td>51.94</td>\n",
       "      <td>11</td>\n",
       "      <td>15</td>\n",
       "      <td>14</td>\n",
       "      <td>11</td>\n",
       "      <td>13</td>\n",
       "      <td>4.755020e+11</td>\n",
       "      <td>15</td>\n",
       "      <td>64.3</td>\n",
       "      <td>60.1</td>\n",
       "      <td>47.4</td>\n",
       "      <td>67.6</td>\n",
       "      <td>40</td>\n",
       "    </tr>\n",
       "    <tr>\n",
       "      <th>2</th>\n",
       "      <td>Australia</td>\n",
       "      <td>22.7</td>\n",
       "      <td>73.28</td>\n",
       "      <td>12</td>\n",
       "      <td>15</td>\n",
       "      <td>16</td>\n",
       "      <td>12</td>\n",
       "      <td>15</td>\n",
       "      <td>1.532410e+12</td>\n",
       "      <td>90</td>\n",
       "      <td>66.4</td>\n",
       "      <td>95.5</td>\n",
       "      <td>83.5</td>\n",
       "      <td>86.2</td>\n",
       "      <td>80</td>\n",
       "    </tr>\n",
       "    <tr>\n",
       "      <th>3</th>\n",
       "      <td>Austria</td>\n",
       "      <td>8.4</td>\n",
       "      <td>73.15</td>\n",
       "      <td>12</td>\n",
       "      <td>15</td>\n",
       "      <td>16</td>\n",
       "      <td>12</td>\n",
       "      <td>15</td>\n",
       "      <td>3.947080e+11</td>\n",
       "      <td>90</td>\n",
       "      <td>51.1</td>\n",
       "      <td>73.6</td>\n",
       "      <td>80.4</td>\n",
       "      <td>86.8</td>\n",
       "      <td>85</td>\n",
       "    </tr>\n",
       "    <tr>\n",
       "      <th>4</th>\n",
       "      <td>Bangladesh</td>\n",
       "      <td>154.7</td>\n",
       "      <td>31.57</td>\n",
       "      <td>9</td>\n",
       "      <td>11</td>\n",
       "      <td>9</td>\n",
       "      <td>8</td>\n",
       "      <td>9</td>\n",
       "      <td>1.163550e+11</td>\n",
       "      <td>20</td>\n",
       "      <td>72.7</td>\n",
       "      <td>68.0</td>\n",
       "      <td>51.9</td>\n",
       "      <td>54.0</td>\n",
       "      <td>55</td>\n",
       "    </tr>\n",
       "  </tbody>\n",
       "</table>\n",
       "</div>"
      ],
      "text/plain": [
       "         State  Pop. In Millions for 2012  RoLScore  elec_pros   pol_plur  \\\n",
       "0     Albania                         3.2     42.60           8        10   \n",
       "1    Argentina                       41.1     51.94          11        15   \n",
       "2   Australia                        22.7     73.28          12        15   \n",
       "3      Austria                        8.4     73.15          12        15   \n",
       "4  Bangladesh                       154.7     31.57           9        11   \n",
       "\n",
       "   free_expr  assoc_org  per_auto       2012GDP  hprop  hfisc  hbiz  hlab  \\\n",
       "0         13          8         9  1.264810e+10     30   92.6  81.0  49.0   \n",
       "1         14         11        13  4.755020e+11     15   64.3  60.1  47.4   \n",
       "2         16         12        15  1.532410e+12     90   66.4  95.5  83.5   \n",
       "3         16         12        15  3.947080e+11     90   51.1  73.6  80.4   \n",
       "4          9          8         9  1.163550e+11     20   72.7  68.0  51.9   \n",
       "\n",
       "   htra  hinv  \n",
       "0  79.8    65  \n",
       "1  67.6    40  \n",
       "2  86.2    80  \n",
       "3  86.8    85  \n",
       "4  54.0    55  "
      ]
     },
     "execution_count": 2,
     "metadata": {},
     "output_type": "execute_result"
    }
   ],
   "source": [
    "roldf.head()"
   ]
  },
  {
   "cell_type": "code",
   "execution_count": 3,
   "metadata": {},
   "outputs": [
    {
     "data": {
      "text/html": [
       "<div>\n",
       "<style scoped>\n",
       "    .dataframe tbody tr th:only-of-type {\n",
       "        vertical-align: middle;\n",
       "    }\n",
       "\n",
       "    .dataframe tbody tr th {\n",
       "        vertical-align: top;\n",
       "    }\n",
       "\n",
       "    .dataframe thead th {\n",
       "        text-align: right;\n",
       "    }\n",
       "</style>\n",
       "<table border=\"1\" class=\"dataframe\">\n",
       "  <thead>\n",
       "    <tr style=\"text-align: right;\">\n",
       "      <th></th>\n",
       "      <th>Year</th>\n",
       "      <th>Unemployment Rate</th>\n",
       "      <th>Accommodation and food services Quit rate</th>\n",
       "    </tr>\n",
       "  </thead>\n",
       "  <tbody>\n",
       "    <tr>\n",
       "      <th>0</th>\n",
       "      <td>2001-01-01</td>\n",
       "      <td>4.2</td>\n",
       "      <td>6.4</td>\n",
       "    </tr>\n",
       "    <tr>\n",
       "      <th>1</th>\n",
       "      <td>2001-02-01</td>\n",
       "      <td>4.2</td>\n",
       "      <td>5.4</td>\n",
       "    </tr>\n",
       "    <tr>\n",
       "      <th>2</th>\n",
       "      <td>2001-03-01</td>\n",
       "      <td>4.3</td>\n",
       "      <td>5.4</td>\n",
       "    </tr>\n",
       "    <tr>\n",
       "      <th>3</th>\n",
       "      <td>2001-04-01</td>\n",
       "      <td>4.4</td>\n",
       "      <td>5.2</td>\n",
       "    </tr>\n",
       "    <tr>\n",
       "      <th>4</th>\n",
       "      <td>2001-05-01</td>\n",
       "      <td>4.3</td>\n",
       "      <td>5.3</td>\n",
       "    </tr>\n",
       "  </tbody>\n",
       "</table>\n",
       "</div>"
      ],
      "text/plain": [
       "         Year  Unemployment Rate  Accommodation and food services Quit rate\n",
       "0  2001-01-01                4.2                                        6.4\n",
       "1  2001-02-01                4.2                                        5.4\n",
       "2  2001-03-01                4.3                                        5.4\n",
       "3  2001-04-01                4.4                                        5.2\n",
       "4  2001-05-01                4.3                                        5.3"
      ]
     },
     "execution_count": 3,
     "metadata": {},
     "output_type": "execute_result"
    }
   ],
   "source": [
    "tsdf.head()"
   ]
  },
  {
   "cell_type": "code",
   "execution_count": 4,
   "metadata": {},
   "outputs": [],
   "source": [
    "def remove_chart_junk(axis, numticks, labelsize):\n",
    "\n",
    "    # reduce ticks\n",
    "    axis.locator_params(nbins=numticks)\n",
    "\n",
    "    # remove unnecessary borders\n",
    "    axis.spines['top'].set_visible(False)\n",
    "    axis.spines['right'].set_visible(False)\n",
    "    axis.spines['left'].set_color((0.1, 0.1, 0.1, 0.2))\n",
    "    axis.spines['bottom'].set_color((0.1, 0.1, 0.1, 0.2))\n",
    "\n",
    "    # prettify tick labels\n",
    "    axis.tick_params(axis='both',\n",
    "                     which='both',\n",
    "                     length=0,\n",
    "                     labelsize=labelsize,\n",
    "                     pad=labelsize * 0.66,\n",
    "                     labelcolor=(0.25, 0.25, 0.25))\n",
    "    return axis"
   ]
  },
  {
   "cell_type": "code",
   "execution_count": 5,
   "metadata": {},
   "outputs": [],
   "source": [
    "def boxplot(variables,\n",
    "            labels,\n",
    "            title=\"\",\n",
    "            numticks=3,\n",
    "            labelsize=14,\n",
    "            size=(10, 10),\n",
    "            font=\"Lato\",\n",
    "            notch=True):\n",
    "    arrays = [np.sort(np.array(x)) for x in variables]\n",
    "\n",
    "    fig = plt.figure(figsize=size)\n",
    "    ax = fig.add_subplot(1, 1, 1)\n",
    "\n",
    "    ax.set_title(title + '\\n',\n",
    "                 fontsize=labelsize * 1.25,\n",
    "                 fontname=font)\n",
    "\n",
    "    ax = remove_chart_junk(ax, numticks, labelsize)\n",
    "\n",
    "    bp = ax.boxplot(arrays, notch=notch, sym=\"k.\", labels=labels)\n",
    "    for element in ['boxes', 'whiskers', 'fliers', 'means', 'medians', 'caps']:\n",
    "        plt.setp(bp[element], color=\"black\")\n",
    "    return fig"
   ]
  },
  {
   "cell_type": "code",
   "execution_count": 6,
   "metadata": {},
   "outputs": [
    {
     "data": {
      "image/png": "[encoded data removed]",
      "text/plain": [
       "<matplotlib.figure.Figure at 0x10943f6d8>"
      ]
     },
     "metadata": {},
     "output_type": "display_data"
    }
   ],
   "source": [
    "bptest = boxplot([roldf[\"per_auto\"], df[\"assoc_org\"]],\n",
    "              [\"individual freedom\", \"associational freedom\"], \n",
    "              \"a boxplot\", notch=False)"
   ]
  },
  {
   "cell_type": "code",
   "execution_count": 7,
   "metadata": {},
   "outputs": [
    {
     "data": {
      "text/plain": [
       "{'_agg_filter': None,\n",
       " '_alpha': None,\n",
       " '_animated': False,\n",
       " '_axobservers': [],\n",
       " '_axstack': <matplotlib.figure.AxesStack at 0x10943f978>,\n",
       " '_cachedRenderer': <matplotlib.backends.backend_agg.RendererAgg at 0x109494860>,\n",
       " '_clipon': True,\n",
       " '_clippath': None,\n",
       " '_contains': None,\n",
       " '_dpi': 72.0,\n",
       " '_gid': None,\n",
       " '_hold': True,\n",
       " '_label': '',\n",
       " '_mouseover': False,\n",
       " '_oid': 0,\n",
       " '_path_effects': [],\n",
       " '_picker': None,\n",
       " '_propobservers': {},\n",
       " '_rasterized': None,\n",
       " '_remove_method': None,\n",
       " '_sketch': None,\n",
       " '_snap': None,\n",
       " '_stale': True,\n",
       " '_sticky_edges': _XYPair(x=[], y=[]),\n",
       " '_suptitle': None,\n",
       " '_tight': False,\n",
       " '_tight_parameters': {},\n",
       " '_transform': None,\n",
       " '_transformSet': False,\n",
       " '_url': None,\n",
       " '_visible': True,\n",
       " 'artists': [],\n",
       " 'bbox': TransformedBbox(Bbox([[0.0, 0.0], [10.0, 10.0]]), Affine2D(array([[72.,  0.,  0.],\n",
       "        [ 0., 72.,  0.],\n",
       "        [ 0.,  0.,  1.]]))),\n",
       " 'bbox_inches': Bbox([[0.0, 0.0], [10.0, 10.0]]),\n",
       " 'callbacks': <matplotlib.cbook.CallbackRegistry at 0x10943f9b0>,\n",
       " 'canvas': <matplotlib.backends.backend_agg.FigureCanvasAgg at 0x10943f710>,\n",
       " 'clipbox': None,\n",
       " 'dpi_scale_trans': Affine2D(array([[72.,  0.,  0.],\n",
       "        [ 0., 72.,  0.],\n",
       "        [ 0.,  0.,  1.]])),\n",
       " 'eventson': False,\n",
       " 'figure': None,\n",
       " 'frameon': True,\n",
       " 'images': [],\n",
       " 'legends': [],\n",
       " 'lines': [],\n",
       " 'number': 1,\n",
       " 'patch': <matplotlib.patches.Rectangle at 0x10943f828>,\n",
       " 'patches': [],\n",
       " 'stale_callback': None,\n",
       " 'subplotpars': <matplotlib.figure.SubplotParams at 0x10943f940>,\n",
       " 'suppressComposite': None,\n",
       " 'texts': [],\n",
       " 'transFigure': BboxTransformTo(TransformedBbox(Bbox([[0.0, 0.0], [10.0, 10.0]]), Affine2D(array([[72.,  0.,  0.],\n",
       "        [ 0., 72.,  0.],\n",
       "        [ 0.,  0.,  1.]]))))}"
      ]
     },
     "execution_count": 7,
     "metadata": {},
     "output_type": "execute_result"
    }
   ],
   "source": [
    "bptest.__dict__"
   ]
  },
  {
   "cell_type": "code",
   "execution_count": 8,
   "metadata": {},
   "outputs": [
    {
     "data": {
      "text/plain": [
       "1"
      ]
     },
     "execution_count": 8,
     "metadata": {},
     "output_type": "execute_result"
    }
   ],
   "source": [
    "len(bptest._axstack.as_list())"
   ]
  },
  {
   "cell_type": "code",
   "execution_count": 9,
   "metadata": {},
   "outputs": [
    {
     "data": {
      "text/plain": [
       "<matplotlib.axes._subplots.AxesSubplot at 0x10943fd30>"
      ]
     },
     "execution_count": 9,
     "metadata": {},
     "output_type": "execute_result"
    }
   ],
   "source": [
    "bptest._axstack.as_list()[0]"
   ]
  },
  {
   "cell_type": "code",
   "execution_count": 10,
   "metadata": {},
   "outputs": [
    {
     "data": {
      "image/png": "[encoded data removed]",
      "text/plain": [
       "<matplotlib.figure.Figure at 0x10943f6d8>"
      ]
     },
     "execution_count": 10,
     "metadata": {},
     "output_type": "execute_result"
    }
   ],
   "source": [
    "bptest"
   ]
  },
  {
   "cell_type": "code",
   "execution_count": 11,
   "metadata": {},
   "outputs": [
    {
     "data": {
      "text/plain": [
       "Text(0.5,1,'KITTY!')"
      ]
     },
     "execution_count": 11,
     "metadata": {},
     "output_type": "execute_result"
    }
   ],
   "source": [
    "bptest._axstack.as_list()[0].set_title(\"KITTY!\")"
   ]
  },
  {
   "cell_type": "code",
   "execution_count": 12,
   "metadata": {},
   "outputs": [
    {
     "data": {
      "image/png": "[encoded data removed]",
      "text/plain": [
       "<matplotlib.figure.Figure at 0x10943f6d8>"
      ]
     },
     "execution_count": 12,
     "metadata": {},
     "output_type": "execute_result"
    }
   ],
   "source": [
    "bptest"
   ]
  },
  {
   "cell_type": "code",
   "execution_count": 13,
   "metadata": {},
   "outputs": [],
   "source": [
    "# sweet, ok, so that's how I access the axis then.  let's try to monkeypatch it.\n",
    "def get_axes(self):\n",
    "    return self._axstack.as_list()[0]"
   ]
  },
  {
   "cell_type": "code",
   "execution_count": 14,
   "metadata": {},
   "outputs": [
    {
     "data": {
      "text/plain": [
       "matplotlib.figure.Figure"
      ]
     },
     "execution_count": 14,
     "metadata": {},
     "output_type": "execute_result"
    }
   ],
   "source": [
    "type(bptest)"
   ]
  },
  {
   "cell_type": "code",
   "execution_count": 15,
   "metadata": {},
   "outputs": [],
   "source": [
    "setattr(matplotlib.figure.Figure, 'inner_plot', get_axes)"
   ]
  },
  {
   "cell_type": "code",
   "execution_count": 17,
   "metadata": {},
   "outputs": [
    {
     "data": {
      "text/plain": [
       "<matplotlib.axes._subplots.AxesSubplot at 0x10943fd30>"
      ]
     },
     "execution_count": 17,
     "metadata": {},
     "output_type": "execute_result"
    }
   ],
   "source": [
    "bptest.inner_plot()"
   ]
  },
  {
   "cell_type": "code",
   "execution_count": 18,
   "metadata": {},
   "outputs": [
    {
     "data": {
      "text/plain": [
       "Text(0.5,1,'MEOW!')"
      ]
     },
     "execution_count": 18,
     "metadata": {},
     "output_type": "execute_result"
    }
   ],
   "source": [
    "bptest.inner_plot().set_title(\"MEOW!\")"
   ]
  },
  {
   "cell_type": "code",
   "execution_count": 19,
   "metadata": {},
   "outputs": [
    {
     "data": {
      "image/png": "[encoded data removed]",
      "text/plain": [
       "<matplotlib.figure.Figure at 0x10943f6d8>"
      ]
     },
     "execution_count": 19,
     "metadata": {},
     "output_type": "execute_result"
    }
   ],
   "source": [
    "bptest"
   ]
  },
  {
   "cell_type": "code",
   "execution_count": null,
   "metadata": {},
   "outputs": [],
   "source": [
    "bptest"
   ]
  },
  {
   "cell_type": "code",
   "execution_count": 20,
   "metadata": {},
   "outputs": [],
   "source": [
    "setattr(matplotlib.figure.Figure, \n",
    "        'change_title', \n",
    "        lambda self, title: self._axstack.as_list()[0].set_title(title))"
   ]
  },
  {
   "cell_type": "code",
   "execution_count": 21,
   "metadata": {},
   "outputs": [
    {
     "data": {
      "text/plain": [
       "Text(0.5,1,'Another new title!')"
      ]
     },
     "execution_count": 21,
     "metadata": {},
     "output_type": "execute_result"
    }
   ],
   "source": [
    "bptest.change_title(\"Another new title!\")"
   ]
  },
  {
   "cell_type": "code",
   "execution_count": 22,
   "metadata": {},
   "outputs": [
    {
     "data": {
      "image/png": "[encoded data removed]",
      "text/plain": [
       "<matplotlib.figure.Figure at 0x10943f6d8>"
      ]
     },
     "execution_count": 22,
     "metadata": {},
     "output_type": "execute_result"
    }
   ],
   "source": [
    "bptest"
   ]
  },
  {
   "cell_type": "code",
   "execution_count": 23,
   "metadata": {},
   "outputs": [],
   "source": [
    "# ok, time for an experiment with subclassing instead!\n",
    "class SimpleFigure(matplotlib.figure.Figure):\n",
    "    def change_title(self, title):\n",
    "        self._axstack.as_list()[0].set_title(title)"
   ]
  },
  {
   "cell_type": "code",
   "execution_count": 24,
   "metadata": {},
   "outputs": [],
   "source": [
    "def boxplot2(variables,\n",
    "            labels,\n",
    "            title=\"\",\n",
    "            numticks=3,\n",
    "            labelsize=14,\n",
    "            size=(10, 10),\n",
    "            font=\"Lato\",\n",
    "            notch=True):\n",
    "    arrays = [np.sort(np.array(x)) for x in variables]\n",
    "\n",
    "    fig = plt.figure(figsize=size, FigureClass=SimpleFigure)\n",
    "    ax = fig.add_subplot(1, 1, 1)\n",
    "\n",
    "    ax.set_title(title + '\\n',\n",
    "                 fontsize=labelsize * 1.25,\n",
    "                 fontname=font)\n",
    "\n",
    "    ax = remove_chart_junk(ax, numticks, labelsize)\n",
    "\n",
    "    bp = ax.boxplot(arrays, notch=notch, sym=\"k.\", labels=labels)\n",
    "    for element in ['boxes', 'whiskers', 'fliers', 'means', 'medians', 'caps']:\n",
    "        plt.setp(bp[element], color=\"black\")\n",
    "    return fig"
   ]
  },
  {
   "cell_type": "code",
   "execution_count": 25,
   "metadata": {},
   "outputs": [
    {
     "data": {
      "image/png": "[encoded data removed]",
      "text/plain": [
       "<__main__.SimpleFigure at 0x109ce0908>"
      ]
     },
     "metadata": {},
     "output_type": "display_data"
    }
   ],
   "source": [
    "bptest2 = boxplot2([roldf[\"per_auto\"], df[\"assoc_org\"]],\n",
    "              [\"individual freedom\", \"associational freedom\"], \n",
    "              \"a boxplot\", notch=False)"
   ]
  },
  {
   "cell_type": "code",
   "execution_count": 26,
   "metadata": {},
   "outputs": [],
   "source": [
    "bptest2.change_title(\"NICE!\")"
   ]
  },
  {
   "cell_type": "code",
   "execution_count": 27,
   "metadata": {},
   "outputs": [
    {
     "data": {
      "image/png": "[encoded data removed]",
      "text/plain": [
       "<__main__.SimpleFigure at 0x109ce0908>"
      ]
     },
     "execution_count": 27,
     "metadata": {},
     "output_type": "execute_result"
    }
   ],
   "source": [
    "bptest2"
   ]
  },
  {
   "cell_type": "code",
   "execution_count": null,
   "metadata": {},
   "outputs": [],
   "source": []
  }
 ],
 "metadata": {
  "kernelspec": {
   "display_name": "printable_plots",
   "language": "python",
   "name": "printable_plots"
  },
  "language_info": {
   "codemirror_mode": {
    "name": "ipython",
    "version": 3
   },
   "file_extension": ".py",
   "mimetype": "text/x-python",
   "name": "python",
   "nbconvert_exporter": "python",
   "pygments_lexer": "ipython3",
   "version": "3.6.1"
  }
 },
 "nbformat": 4,
 "nbformat_minor": 2
}
