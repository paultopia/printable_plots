{
 "cells": [
  {
   "cell_type": "code",
   "execution_count": 1,
   "metadata": {},
   "outputs": [],
   "source": [
    "# some basic setup\n",
    "import warnings\n",
    "warnings.simplefilter(action='ignore', category=FutureWarning)\n",
    "import pandas as pd\n",
    "import matplotlib\n",
    "import matplotlib.pyplot as plt\n",
    "import numpy as np\n",
    "from scipy.stats import gaussian_kde\n",
    "import statsmodels.api as sm\n",
    "import textwrap\n",
    "from statsmodels.stats.outliers_influence import summary_table\n",
    "from datetime import datetime\n",
    "%matplotlib inline\n",
    "\n",
    "roldf = df = pd.read_csv(\"rol-scores.csv\")\n",
    "tsdf = pd.read_csv(\"unemployment.csv\").iloc[:, : 3]\n",
    "tsdf[\"Year\"] = tsdf[\"Year\"].apply(lambda x: datetime.strptime(x, '%Y %b').date())"
   ]
  },
  {
   "cell_type": "code",
   "execution_count": 2,
   "metadata": {},
   "outputs": [
    {
     "data": {
      "text/html": [
       "<div>\n",
       "<style scoped>\n",
       "    .dataframe tbody tr th:only-of-type {\n",
       "        vertical-align: middle;\n",
       "    }\n",
       "\n",
       "    .dataframe tbody tr th {\n",
       "        vertical-align: top;\n",
       "    }\n",
       "\n",
       "    .dataframe thead th {\n",
       "        text-align: right;\n",
       "    }\n",
       "</style>\n",
       "<table border=\"1\" class=\"dataframe\">\n",
       "  <thead>\n",
       "    <tr style=\"text-align: right;\">\n",
       "      <th></th>\n",
       "      <th>State</th>\n",
       "      <th>Pop. In Millions for 2012</th>\n",
       "      <th>RoLScore</th>\n",
       "      <th>elec_pros</th>\n",
       "      <th>pol_plur</th>\n",
       "      <th>free_expr</th>\n",
       "      <th>assoc_org</th>\n",
       "      <th>per_auto</th>\n",
       "      <th>2012GDP</th>\n",
       "      <th>hprop</th>\n",
       "      <th>hfisc</th>\n",
       "      <th>hbiz</th>\n",
       "      <th>hlab</th>\n",
       "      <th>htra</th>\n",
       "      <th>hinv</th>\n",
       "    </tr>\n",
       "  </thead>\n",
       "  <tbody>\n",
       "    <tr>\n",
       "      <th>0</th>\n",
       "      <td>Albania</td>\n",
       "      <td>3.2</td>\n",
       "      <td>42.60</td>\n",
       "      <td>8</td>\n",
       "      <td>10</td>\n",
       "      <td>13</td>\n",
       "      <td>8</td>\n",
       "      <td>9</td>\n",
       "      <td>1.264810e+10</td>\n",
       "      <td>30</td>\n",
       "      <td>92.6</td>\n",
       "      <td>81.0</td>\n",
       "      <td>49.0</td>\n",
       "      <td>79.8</td>\n",
       "      <td>65</td>\n",
       "    </tr>\n",
       "    <tr>\n",
       "      <th>1</th>\n",
       "      <td>Argentina</td>\n",
       "      <td>41.1</td>\n",
       "      <td>51.94</td>\n",
       "      <td>11</td>\n",
       "      <td>15</td>\n",
       "      <td>14</td>\n",
       "      <td>11</td>\n",
       "      <td>13</td>\n",
       "      <td>4.755020e+11</td>\n",
       "      <td>15</td>\n",
       "      <td>64.3</td>\n",
       "      <td>60.1</td>\n",
       "      <td>47.4</td>\n",
       "      <td>67.6</td>\n",
       "      <td>40</td>\n",
       "    </tr>\n",
       "    <tr>\n",
       "      <th>2</th>\n",
       "      <td>Australia</td>\n",
       "      <td>22.7</td>\n",
       "      <td>73.28</td>\n",
       "      <td>12</td>\n",
       "      <td>15</td>\n",
       "      <td>16</td>\n",
       "      <td>12</td>\n",
       "      <td>15</td>\n",
       "      <td>1.532410e+12</td>\n",
       "      <td>90</td>\n",
       "      <td>66.4</td>\n",
       "      <td>95.5</td>\n",
       "      <td>83.5</td>\n",
       "      <td>86.2</td>\n",
       "      <td>80</td>\n",
       "    </tr>\n",
       "    <tr>\n",
       "      <th>3</th>\n",
       "      <td>Austria</td>\n",
       "      <td>8.4</td>\n",
       "      <td>73.15</td>\n",
       "      <td>12</td>\n",
       "      <td>15</td>\n",
       "      <td>16</td>\n",
       "      <td>12</td>\n",
       "      <td>15</td>\n",
       "      <td>3.947080e+11</td>\n",
       "      <td>90</td>\n",
       "      <td>51.1</td>\n",
       "      <td>73.6</td>\n",
       "      <td>80.4</td>\n",
       "      <td>86.8</td>\n",
       "      <td>85</td>\n",
       "    </tr>\n",
       "    <tr>\n",
       "      <th>4</th>\n",
       "      <td>Bangladesh</td>\n",
       "      <td>154.7</td>\n",
       "      <td>31.57</td>\n",
       "      <td>9</td>\n",
       "      <td>11</td>\n",
       "      <td>9</td>\n",
       "      <td>8</td>\n",
       "      <td>9</td>\n",
       "      <td>1.163550e+11</td>\n",
       "      <td>20</td>\n",
       "      <td>72.7</td>\n",
       "      <td>68.0</td>\n",
       "      <td>51.9</td>\n",
       "      <td>54.0</td>\n",
       "      <td>55</td>\n",
       "    </tr>\n",
       "  </tbody>\n",
       "</table>\n",
       "</div>"
      ],
      "text/plain": [
       "         State  Pop. In Millions for 2012  RoLScore  elec_pros   pol_plur  \\\n",
       "0     Albania                         3.2     42.60           8        10   \n",
       "1    Argentina                       41.1     51.94          11        15   \n",
       "2   Australia                        22.7     73.28          12        15   \n",
       "3      Austria                        8.4     73.15          12        15   \n",
       "4  Bangladesh                       154.7     31.57           9        11   \n",
       "\n",
       "   free_expr  assoc_org  per_auto       2012GDP  hprop  hfisc  hbiz  hlab  \\\n",
       "0         13          8         9  1.264810e+10     30   92.6  81.0  49.0   \n",
       "1         14         11        13  4.755020e+11     15   64.3  60.1  47.4   \n",
       "2         16         12        15  1.532410e+12     90   66.4  95.5  83.5   \n",
       "3         16         12        15  3.947080e+11     90   51.1  73.6  80.4   \n",
       "4          9          8         9  1.163550e+11     20   72.7  68.0  51.9   \n",
       "\n",
       "   htra  hinv  \n",
       "0  79.8    65  \n",
       "1  67.6    40  \n",
       "2  86.2    80  \n",
       "3  86.8    85  \n",
       "4  54.0    55  "
      ]
     },
     "execution_count": 2,
     "metadata": {},
     "output_type": "execute_result"
    }
   ],
   "source": [
    "roldf.head()"
   ]
  },
  {
   "cell_type": "code",
   "execution_count": 3,
   "metadata": {},
   "outputs": [
    {
     "data": {
      "text/html": [
       "<div>\n",
       "<style scoped>\n",
       "    .dataframe tbody tr th:only-of-type {\n",
       "        vertical-align: middle;\n",
       "    }\n",
       "\n",
       "    .dataframe tbody tr th {\n",
       "        vertical-align: top;\n",
       "    }\n",
       "\n",
       "    .dataframe thead th {\n",
       "        text-align: right;\n",
       "    }\n",
       "</style>\n",
       "<table border=\"1\" class=\"dataframe\">\n",
       "  <thead>\n",
       "    <tr style=\"text-align: right;\">\n",
       "      <th></th>\n",
       "      <th>Year</th>\n",
       "      <th>Unemployment Rate</th>\n",
       "      <th>Accommodation and food services Quit rate</th>\n",
       "    </tr>\n",
       "  </thead>\n",
       "  <tbody>\n",
       "    <tr>\n",
       "      <th>0</th>\n",
       "      <td>2001-01-01</td>\n",
       "      <td>4.2</td>\n",
       "      <td>6.4</td>\n",
       "    </tr>\n",
       "    <tr>\n",
       "      <th>1</th>\n",
       "      <td>2001-02-01</td>\n",
       "      <td>4.2</td>\n",
       "      <td>5.4</td>\n",
       "    </tr>\n",
       "    <tr>\n",
       "      <th>2</th>\n",
       "      <td>2001-03-01</td>\n",
       "      <td>4.3</td>\n",
       "      <td>5.4</td>\n",
       "    </tr>\n",
       "    <tr>\n",
       "      <th>3</th>\n",
       "      <td>2001-04-01</td>\n",
       "      <td>4.4</td>\n",
       "      <td>5.2</td>\n",
       "    </tr>\n",
       "    <tr>\n",
       "      <th>4</th>\n",
       "      <td>2001-05-01</td>\n",
       "      <td>4.3</td>\n",
       "      <td>5.3</td>\n",
       "    </tr>\n",
       "  </tbody>\n",
       "</table>\n",
       "</div>"
      ],
      "text/plain": [
       "         Year  Unemployment Rate  Accommodation and food services Quit rate\n",
       "0  2001-01-01                4.2                                        6.4\n",
       "1  2001-02-01                4.2                                        5.4\n",
       "2  2001-03-01                4.3                                        5.4\n",
       "3  2001-04-01                4.4                                        5.2\n",
       "4  2001-05-01                4.3                                        5.3"
      ]
     },
     "execution_count": 3,
     "metadata": {},
     "output_type": "execute_result"
    }
   ],
   "source": [
    "tsdf.head()"
   ]
  },
  {
   "cell_type": "code",
   "execution_count": 4,
   "metadata": {},
   "outputs": [],
   "source": [
    "def remove_chart_junk(axis, numticks, labelsize):\n",
    "\n",
    "    # reduce ticks\n",
    "    axis.locator_params(nbins=numticks)\n",
    "\n",
    "    # remove unnecessary borders\n",
    "    axis.spines['top'].set_visible(False)\n",
    "    axis.spines['right'].set_visible(False)\n",
    "    axis.spines['left'].set_color((0.1, 0.1, 0.1, 0.2))\n",
    "    axis.spines['bottom'].set_color((0.1, 0.1, 0.1, 0.2))\n",
    "\n",
    "    # prettify tick labels\n",
    "    axis.tick_params(axis='both',\n",
    "                     which='both',\n",
    "                     length=0,\n",
    "                     labelsize=labelsize,\n",
    "                     pad=labelsize * 0.66,\n",
    "                     labelcolor=(0.25, 0.25, 0.25))\n",
    "    return axis"
   ]
  },
  {
   "cell_type": "code",
   "execution_count": 11,
   "metadata": {},
   "outputs": [],
   "source": [
    "class PlottyFig(matplotlib.figure.Figure):\n",
    "    def change_title(self, title):\n",
    "        self._axstack.as_list()[0].set_title(title)\n",
    "\n",
    "    def get_main_plot(self):\n",
    "        return self._axstack.as_list()[0]"
   ]
  },
  {
   "cell_type": "code",
   "execution_count": 12,
   "metadata": {},
   "outputs": [],
   "source": [
    "def boxplot(variables,\n",
    "            labels,\n",
    "            title=\"\",\n",
    "            numticks=3,\n",
    "            labelsize=14,\n",
    "            size=(10, 10),\n",
    "            font=\"Lato\",\n",
    "            notch=True):\n",
    "    arrays = [np.sort(np.array(x)) for x in variables]\n",
    "\n",
    "    fig = plt.figure(figsize=size, FigureClass=PlottyFig)\n",
    "    ax = fig.add_subplot(1, 1, 1)\n",
    "\n",
    "    ax.set_title(title + '\\n',\n",
    "                 fontsize=labelsize * 1.25,\n",
    "                 fontname=font)\n",
    "\n",
    "    ax = remove_chart_junk(ax, numticks, labelsize)\n",
    "\n",
    "    bp = ax.boxplot(arrays, notch=notch, sym=\"k.\", labels=labels)\n",
    "    for element in ['boxes', 'whiskers', 'fliers', 'means', 'medians', 'caps']:\n",
    "        plt.setp(bp[element], color=\"black\")\n",
    "    return fig\n"
   ]
  },
  {
   "cell_type": "code",
   "execution_count": 13,
   "metadata": {},
   "outputs": [
    {
     "data": {
      "image/png": "[encoded data removed]",
      "text/plain": [
       "<__main__.PlottyFig at 0x111935a20>"
      ]
     },
     "metadata": {},
     "output_type": "display_data"
    }
   ],
   "source": [
    "bptest = boxplot([roldf[\"per_auto\"], df[\"assoc_org\"]],\n",
    "              [\"individual freedom\", \"associational freedom\"], \n",
    "              \"a boxplot\", notch=False)"
   ]
  },
  {
   "cell_type": "code",
   "execution_count": 14,
   "metadata": {},
   "outputs": [
    {
     "data": {
      "text/plain": [
       "{'_adjustable': 'box',\n",
       " '_agg_filter': None,\n",
       " '_alpha': None,\n",
       " '_anchor': 'C',\n",
       " '_animated': False,\n",
       " '_aspect': 'auto',\n",
       " '_autoscaleXon': False,\n",
       " '_autoscaleYon': True,\n",
       " '_axes': <matplotlib.axes._subplots.AxesSubplot at 0x10bf1ad68>,\n",
       " '_axes_locator': None,\n",
       " '_axisbelow': 'line',\n",
       " '_cachedRenderer': <matplotlib.backends.backend_agg.RendererAgg at 0x1121fd4a8>,\n",
       " '_clipon': True,\n",
       " '_clippath': None,\n",
       " '_connected': {},\n",
       " '_contains': None,\n",
       " '_current_image': None,\n",
       " '_facecolor': 'w',\n",
       " '_frameon': True,\n",
       " '_get_lines': <matplotlib.axes._base._process_plot_var_args at 0x1121d26d8>,\n",
       " '_get_patches_for_fill': <matplotlib.axes._base._process_plot_var_args at 0x1121d2358>,\n",
       " '_gid': None,\n",
       " '_gridOn': False,\n",
       " '_hold': True,\n",
       " '_label': '',\n",
       " '_left_title': Text(0,1,''),\n",
       " '_mouseover': False,\n",
       " '_navigate': True,\n",
       " '_navigate_mode': None,\n",
       " '_oid': 0,\n",
       " '_originalPosition': Bbox([[0.125, 0.125], [0.9, 0.88]]),\n",
       " '_path_effects': [],\n",
       " '_picker': None,\n",
       " '_position': Bbox([[0.125, 0.125], [0.9, 0.88]]),\n",
       " '_propobservers': {},\n",
       " '_rasterization_zorder': None,\n",
       " '_rasterized': None,\n",
       " '_remove_method': <bound method Figure.__remove_ax of <__main__.PlottyFig object at 0x111935a20>>,\n",
       " '_right_title': Text(1,1,''),\n",
       " '_sharex': None,\n",
       " '_sharey': None,\n",
       " '_sketch': None,\n",
       " '_snap': None,\n",
       " '_stale': True,\n",
       " '_sticky_edges': _XYPair(x=[], y=[]),\n",
       " '_subplotspec': <matplotlib.gridspec.SubplotSpec at 0x10bf1a8d0>,\n",
       " '_tight': None,\n",
       " '_transform': None,\n",
       " '_transformSet': False,\n",
       " '_url': None,\n",
       " '_use_sticky_edges': True,\n",
       " '_visible': True,\n",
       " '_xaxis_transform': BlendedGenericTransform(CompositeGenericTransform(TransformWrapper(BlendedAffine2D(IdentityTransform(),IdentityTransform())), CompositeGenericTransform(BboxTransformFrom(TransformedBbox(Bbox([[0.5, -0.8], [2.5, 16.8]]), TransformWrapper(BlendedAffine2D(IdentityTransform(),IdentityTransform())))), BboxTransformTo(TransformedBbox(Bbox([[0.125, 0.125], [0.9, 0.88]]), BboxTransformTo(TransformedBbox(Bbox([[0.0, 0.0], [10.0, 10.0]]), Affine2D(array([[72.,  0.,  0.],\n",
       "        [ 0., 72.,  0.],\n",
       "        [ 0.,  0.,  1.]])))))))),BboxTransformTo(TransformedBbox(Bbox([[0.125, 0.125], [0.9, 0.88]]), BboxTransformTo(TransformedBbox(Bbox([[0.0, 0.0], [10.0, 10.0]]), Affine2D(array([[72.,  0.,  0.],\n",
       "        [ 0., 72.,  0.],\n",
       "        [ 0.,  0.,  1.]]))))))),\n",
       " '_xcid': 1,\n",
       " '_xmargin': 0.05,\n",
       " '_yaxis_transform': BlendedGenericTransform(BboxTransformTo(TransformedBbox(Bbox([[0.125, 0.125], [0.9, 0.88]]), BboxTransformTo(TransformedBbox(Bbox([[0.0, 0.0], [10.0, 10.0]]), Affine2D(array([[72.,  0.,  0.],\n",
       "        [ 0., 72.,  0.],\n",
       "        [ 0.,  0.,  1.]])))))),CompositeGenericTransform(TransformWrapper(BlendedAffine2D(IdentityTransform(),IdentityTransform())), CompositeGenericTransform(BboxTransformFrom(TransformedBbox(Bbox([[0.5, -0.8], [2.5, 16.8]]), TransformWrapper(BlendedAffine2D(IdentityTransform(),IdentityTransform())))), BboxTransformTo(TransformedBbox(Bbox([[0.125, 0.125], [0.9, 0.88]]), BboxTransformTo(TransformedBbox(Bbox([[0.0, 0.0], [10.0, 10.0]]), Affine2D(array([[72.,  0.,  0.],\n",
       "        [ 0., 72.,  0.],\n",
       "        [ 0.,  0.,  1.]]))))))))),\n",
       " '_ycid': 1,\n",
       " '_ymargin': 0.05,\n",
       " 'artists': [],\n",
       " 'axison': True,\n",
       " 'bbox': TransformedBbox(Bbox([[0.125, 0.125], [0.9, 0.88]]), BboxTransformTo(TransformedBbox(Bbox([[0.0, 0.0], [10.0, 10.0]]), Affine2D(array([[72.,  0.,  0.],\n",
       "        [ 0., 72.,  0.],\n",
       "        [ 0.,  0.,  1.]]))))),\n",
       " 'callbacks': <matplotlib.cbook.CallbackRegistry at 0x1121e6c50>,\n",
       " 'clipbox': None,\n",
       " 'colNum': 0,\n",
       " 'collections': [],\n",
       " 'containers': [],\n",
       " 'dataLim': Bbox([[0.925, 0.0], [2.075, 16.0]]),\n",
       " 'eventson': False,\n",
       " 'figbox': Bbox([[0.125, 0.125], [0.9, 0.88]]),\n",
       " 'figure': <__main__.PlottyFig at 0x111935a20>,\n",
       " 'fmt_xdata': None,\n",
       " 'fmt_ydata': None,\n",
       " 'ignore_existing_data_limits': False,\n",
       " 'images': [],\n",
       " 'legend_': None,\n",
       " 'lines': [<matplotlib.lines.Line2D at 0x1121fd4e0>,\n",
       "  <matplotlib.lines.Line2D at 0x1121fd630>,\n",
       "  <matplotlib.lines.Line2D at 0x1121fdac8>,\n",
       "  <matplotlib.lines.Line2D at 0x1121fdef0>,\n",
       "  <matplotlib.lines.Line2D at 0x112202358>,\n",
       "  <matplotlib.lines.Line2D at 0x112202780>,\n",
       "  <matplotlib.lines.Line2D at 0x112202ba8>,\n",
       "  <matplotlib.lines.Line2D at 0x112202f98>,\n",
       "  <matplotlib.lines.Line2D at 0x11220c438>,\n",
       "  <matplotlib.lines.Line2D at 0x11220c860>,\n",
       "  <matplotlib.lines.Line2D at 0x11220cc88>,\n",
       "  <matplotlib.lines.Line2D at 0x1122130f0>,\n",
       "  <matplotlib.lines.Line2D at 0x112213518>,\n",
       "  <matplotlib.lines.Line2D at 0x112213940>],\n",
       " 'mouseover_set': set(),\n",
       " 'numCols': 1,\n",
       " 'numRows': 1,\n",
       " 'patch': <matplotlib.patches.Rectangle at 0x1121ded30>,\n",
       " 'patches': [],\n",
       " 'rowNum': 0,\n",
       " 'spines': OrderedDict([('left', <matplotlib.spines.Spine at 0x111944c18>),\n",
       "              ('right', <matplotlib.spines.Spine at 0x111944320>),\n",
       "              ('bottom', <matplotlib.spines.Spine at 0x1121c5048>),\n",
       "              ('top', <matplotlib.spines.Spine at 0x1121c5320>)]),\n",
       " 'stale_callback': <function matplotlib.figure._stale_figure_callback>,\n",
       " 'tables': [],\n",
       " 'texts': [],\n",
       " 'title': Text(0.5,1,'a boxplot\\n'),\n",
       " 'titleOffsetTrans': ScaledTranslation((0.0, 0.08333333333333333)),\n",
       " 'transAxes': BboxTransformTo(TransformedBbox(Bbox([[0.125, 0.125], [0.9, 0.88]]), BboxTransformTo(TransformedBbox(Bbox([[0.0, 0.0], [10.0, 10.0]]), Affine2D(array([[72.,  0.,  0.],\n",
       "        [ 0., 72.,  0.],\n",
       "        [ 0.,  0.,  1.]])))))),\n",
       " 'transData': CompositeGenericTransform(TransformWrapper(BlendedAffine2D(IdentityTransform(),IdentityTransform())), CompositeGenericTransform(BboxTransformFrom(TransformedBbox(Bbox([[0.5, -0.8], [2.5, 16.8]]), TransformWrapper(BlendedAffine2D(IdentityTransform(),IdentityTransform())))), BboxTransformTo(TransformedBbox(Bbox([[0.125, 0.125], [0.9, 0.88]]), BboxTransformTo(TransformedBbox(Bbox([[0.0, 0.0], [10.0, 10.0]]), Affine2D(array([[72.,  0.,  0.],\n",
       "        [ 0., 72.,  0.],\n",
       "        [ 0.,  0.,  1.]])))))))),\n",
       " 'transLimits': BboxTransformFrom(TransformedBbox(Bbox([[0.5, -0.8], [2.5, 16.8]]), TransformWrapper(BlendedAffine2D(IdentityTransform(),IdentityTransform())))),\n",
       " 'transScale': TransformWrapper(BlendedAffine2D(IdentityTransform(),IdentityTransform())),\n",
       " 'viewLim': Bbox([[0.5, -0.8], [2.5, 16.8]]),\n",
       " 'xaxis': <matplotlib.axis.XAxis at 0x1121c5438>,\n",
       " 'yaxis': <matplotlib.axis.YAxis at 0x1121bef28>}"
      ]
     },
     "execution_count": 14,
     "metadata": {},
     "output_type": "execute_result"
    }
   ],
   "source": [
    "bptest.get_main_plot().__dict__"
   ]
  },
  {
   "cell_type": "code",
   "execution_count": 15,
   "metadata": {},
   "outputs": [],
   "source": [
    "lines = bptest.get_main_plot().lines"
   ]
  },
  {
   "cell_type": "code",
   "execution_count": 16,
   "metadata": {},
   "outputs": [
    {
     "data": {
      "text/plain": [
       "[<matplotlib.lines.Line2D at 0x1121fd4e0>,\n",
       " <matplotlib.lines.Line2D at 0x1121fd630>,\n",
       " <matplotlib.lines.Line2D at 0x1121fdac8>,\n",
       " <matplotlib.lines.Line2D at 0x1121fdef0>,\n",
       " <matplotlib.lines.Line2D at 0x112202358>,\n",
       " <matplotlib.lines.Line2D at 0x112202780>,\n",
       " <matplotlib.lines.Line2D at 0x112202ba8>,\n",
       " <matplotlib.lines.Line2D at 0x112202f98>,\n",
       " <matplotlib.lines.Line2D at 0x11220c438>,\n",
       " <matplotlib.lines.Line2D at 0x11220c860>,\n",
       " <matplotlib.lines.Line2D at 0x11220cc88>,\n",
       " <matplotlib.lines.Line2D at 0x1122130f0>,\n",
       " <matplotlib.lines.Line2D at 0x112213518>,\n",
       " <matplotlib.lines.Line2D at 0x112213940>]"
      ]
     },
     "execution_count": 16,
     "metadata": {},
     "output_type": "execute_result"
    }
   ],
   "source": [
    "lines"
   ]
  },
  {
   "cell_type": "code",
   "execution_count": 17,
   "metadata": {},
   "outputs": [
    {
     "data": {
      "text/plain": [
       "{'_agg_filter': None,\n",
       " '_alpha': None,\n",
       " '_animated': False,\n",
       " '_antialiased': True,\n",
       " '_axes': <matplotlib.axes._subplots.AxesSubplot at 0x10bf1ad68>,\n",
       " '_clipon': True,\n",
       " '_clippath': None,\n",
       " '_color': 'black',\n",
       " '_contains': None,\n",
       " '_dashOffset': None,\n",
       " '_dashSeq': None,\n",
       " '_dashcapstyle': 'butt',\n",
       " '_dashjoinstyle': 'round',\n",
       " '_drawstyle': 'default',\n",
       " '_gid': None,\n",
       " '_invalidx': False,\n",
       " '_invalidy': False,\n",
       " '_label': '_line0',\n",
       " '_linestyle': '-',\n",
       " '_linestyles': None,\n",
       " '_linewidth': 1.0,\n",
       " '_marker': <matplotlib.markers.MarkerStyle at 0x1121fd5c0>,\n",
       " '_markeredgecolor': 'auto',\n",
       " '_markeredgewidth': 1.0,\n",
       " '_markerfacecolor': 'auto',\n",
       " '_markerfacecoloralt': 'none',\n",
       " '_markersize': 6.0,\n",
       " '_markevery': None,\n",
       " '_mouseover': False,\n",
       " '_oid': 0,\n",
       " '_path': Path(array([[ 0.925,  8.   ],\n",
       "        [ 1.075,  8.   ],\n",
       "        [ 1.075, 13.5  ],\n",
       "        [ 0.925, 13.5  ],\n",
       "        [ 0.925,  8.   ]]), None),\n",
       " '_path_effects': [],\n",
       " '_picker': None,\n",
       " '_propobservers': {},\n",
       " '_rasterized': None,\n",
       " '_remove_method': <function matplotlib.axes._base._AxesBase.add_line.<locals>.<lambda>>,\n",
       " '_sketch': None,\n",
       " '_snap': None,\n",
       " '_solidcapstyle': 'projecting',\n",
       " '_solidjoinstyle': 'round',\n",
       " '_stale': False,\n",
       " '_sticky_edges': _XYPair(x=[], y=[]),\n",
       " '_subslice': False,\n",
       " '_transform': CompositeGenericTransform(TransformWrapper(BlendedAffine2D(IdentityTransform(),IdentityTransform())), CompositeGenericTransform(BboxTransformFrom(TransformedBbox(Bbox([[0.5, -0.8], [2.5, 16.8]]), TransformWrapper(BlendedAffine2D(IdentityTransform(),IdentityTransform())))), BboxTransformTo(TransformedBbox(Bbox([[0.125, 0.125], [0.9, 0.88]]), BboxTransformTo(TransformedBbox(Bbox([[0.0, 0.0], [10.0, 10.0]]), Affine2D(array([[72.,  0.,  0.],\n",
       "        [ 0., 72.,  0.],\n",
       "        [ 0.,  0.,  1.]])))))))),\n",
       " '_transformSet': True,\n",
       " '_transformed_path': <matplotlib.transforms.TransformedPath at 0x11221e978>,\n",
       " '_url': None,\n",
       " '_us_dashOffset': None,\n",
       " '_us_dashSeq': None,\n",
       " '_visible': True,\n",
       " '_x': array([0.925, 1.075, 1.075, 0.925, 0.925]),\n",
       " '_x_filled': None,\n",
       " '_xcid': 2,\n",
       " '_xorig': array([0.925, 1.075, 1.075, 0.925, 0.925]),\n",
       " '_xy': array([[ 0.925,  8.   ],\n",
       "        [ 1.075,  8.   ],\n",
       "        [ 1.075, 13.5  ],\n",
       "        [ 0.925, 13.5  ],\n",
       "        [ 0.925,  8.   ]]),\n",
       " '_y': array([ 8. ,  8. , 13.5, 13.5,  8. ]),\n",
       " '_ycid': 2,\n",
       " '_yorig': array([ 8. ,  8. , 13.5, 13.5,  8. ]),\n",
       " 'clipbox': TransformedBbox(Bbox([[0.0, 0.0], [1.0, 1.0]]), CompositeGenericTransform(CompositeGenericTransform(BboxTransformTo(Bbox([[0.0, 0.0], [1.0, 1.0]])), Affine2D(array([[1., 0., 0.],\n",
       "        [0., 1., 0.],\n",
       "        [0., 0., 1.]]))), BboxTransformTo(TransformedBbox(Bbox([[0.125, 0.125], [0.9, 0.88]]), BboxTransformTo(TransformedBbox(Bbox([[0.0, 0.0], [10.0, 10.0]]), Affine2D(array([[72.,  0.,  0.],\n",
       "        [ 0., 72.,  0.],\n",
       "        [ 0.,  0.,  1.]])))))))),\n",
       " 'eventson': False,\n",
       " 'figure': <__main__.PlottyFig at 0x111935a20>,\n",
       " 'ind_offset': 0,\n",
       " 'pickradius': 5,\n",
       " 'stale_callback': <function matplotlib.artist._stale_axes_callback>,\n",
       " 'verticalOffset': None,\n",
       " 'zorder': 2}"
      ]
     },
     "execution_count": 17,
     "metadata": {},
     "output_type": "execute_result"
    }
   ],
   "source": [
    "lines[0].__dict__"
   ]
  },
  {
   "cell_type": "code",
   "execution_count": 18,
   "metadata": {},
   "outputs": [],
   "source": [
    "lines[0].color = 'red'"
   ]
  },
  {
   "cell_type": "code",
   "execution_count": 19,
   "metadata": {},
   "outputs": [
    {
     "data": {
      "image/png": "[encoded data removed]",
      "text/plain": [
       "<__main__.PlottyFig at 0x111935a20>"
      ]
     },
     "execution_count": 19,
     "metadata": {},
     "output_type": "execute_result"
    }
   ],
   "source": [
    "bptest"
   ]
  },
  {
   "cell_type": "code",
   "execution_count": 20,
   "metadata": {},
   "outputs": [],
   "source": [
    "for line in lines:\n",
    "    line.color=\"red\""
   ]
  },
  {
   "cell_type": "code",
   "execution_count": 21,
   "metadata": {},
   "outputs": [
    {
     "data": {
      "image/png": "[encoded data removed]",
      "text/plain": [
       "<__main__.PlottyFig at 0x111935a20>"
      ]
     },
     "execution_count": 21,
     "metadata": {},
     "output_type": "execute_result"
    }
   ],
   "source": [
    "bptest"
   ]
  },
  {
   "cell_type": "code",
   "execution_count": 22,
   "metadata": {},
   "outputs": [
    {
     "data": {
      "text/plain": [
       "'red'"
      ]
     },
     "execution_count": 22,
     "metadata": {},
     "output_type": "execute_result"
    }
   ],
   "source": [
    "bptest.get_main_plot().lines[0].color"
   ]
  },
  {
   "cell_type": "code",
   "execution_count": 23,
   "metadata": {},
   "outputs": [],
   "source": [
    "# oooh it's underscore\n",
    "lines[0]._color = 'red'"
   ]
  },
  {
   "cell_type": "code",
   "execution_count": 24,
   "metadata": {},
   "outputs": [
    {
     "data": {
      "image/png": "[encoded data removed]",
      "text/plain": [
       "<__main__.PlottyFig at 0x111935a20>"
      ]
     },
     "execution_count": 24,
     "metadata": {},
     "output_type": "execute_result"
    }
   ],
   "source": [
    "bptest"
   ]
  },
  {
   "cell_type": "code",
   "execution_count": 25,
   "metadata": {},
   "outputs": [],
   "source": [
    "for line in lines:\n",
    "    line._linewidth=1.5"
   ]
  },
  {
   "cell_type": "code",
   "execution_count": 26,
   "metadata": {},
   "outputs": [
    {
     "data": {
      "image/png": "[encoded data removed]",
      "text/plain": [
       "<__main__.PlottyFig at 0x111935a20>"
      ]
     },
     "execution_count": 26,
     "metadata": {},
     "output_type": "execute_result"
    }
   ],
   "source": [
    "bptest"
   ]
  },
  {
   "cell_type": "code",
   "execution_count": 27,
   "metadata": {},
   "outputs": [
    {
     "data": {
      "image/png": "[encoded data removed]",
      "text/plain": [
       "<__main__.PlottyFig at 0x111935a20>"
      ]
     },
     "execution_count": 27,
     "metadata": {},
     "output_type": "execute_result"
    }
   ],
   "source": [
    "for line in lines:\n",
    "    line._linewidth=2.0\n",
    "bptest"
   ]
  },
  {
   "cell_type": "code",
   "execution_count": 30,
   "metadata": {},
   "outputs": [],
   "source": [
    "def boxplot2(variables,\n",
    "            labels,\n",
    "            title=\"\",\n",
    "            numticks=3,\n",
    "            labelsize=14,\n",
    "            size=(10, 10),\n",
    "            font=\"Lato\",\n",
    "            notch=True):\n",
    "    arrays = [np.sort(np.array(x)) for x in variables]\n",
    "\n",
    "    fig = plt.figure(figsize=size, FigureClass=PlottyFig)\n",
    "    ax = fig.add_subplot(1, 1, 1)\n",
    "\n",
    "    ax.set_title(title + '\\n',\n",
    "                 fontsize=labelsize * 1.25,\n",
    "                 fontname=font)\n",
    "\n",
    "    ax = remove_chart_junk(ax, numticks, labelsize)\n",
    "\n",
    "    bp = ax.boxplot(arrays, notch=notch, sym=\"k.\", labels=labels)\n",
    "    for element in ['boxes', 'whiskers', 'fliers', 'means', 'medians', 'caps']:\n",
    "        plt.setp(bp[element], color=\"black\", linewidth = 1.75)\n",
    "    return fig\n"
   ]
  },
  {
   "cell_type": "code",
   "execution_count": 31,
   "metadata": {},
   "outputs": [
    {
     "data": {
      "image/png": "[encoded data removed]",
      "text/plain": [
       "<__main__.PlottyFig at 0x11240bcc0>"
      ]
     },
     "metadata": {},
     "output_type": "display_data"
    }
   ],
   "source": [
    "bptest2 = boxplot2([roldf[\"per_auto\"], df[\"assoc_org\"]],\n",
    "              [\"individual freedom\", \"associational freedom\"], \n",
    "              \"a boxplot\")"
   ]
  },
  {
   "cell_type": "code",
   "execution_count": null,
   "metadata": {},
   "outputs": [],
   "source": []
  }
 ],
 "metadata": {
  "kernelspec": {
   "display_name": "printable_plots",
   "language": "python",
   "name": "printable_plots"
  },
  "language_info": {
   "codemirror_mode": {
    "name": "ipython",
    "version": 3
   },
   "file_extension": ".py",
   "mimetype": "text/x-python",
   "name": "python",
   "nbconvert_exporter": "python",
   "pygments_lexer": "ipython3",
   "version": "3.6.1"
  }
 },
 "nbformat": 4,
 "nbformat_minor": 2
}
